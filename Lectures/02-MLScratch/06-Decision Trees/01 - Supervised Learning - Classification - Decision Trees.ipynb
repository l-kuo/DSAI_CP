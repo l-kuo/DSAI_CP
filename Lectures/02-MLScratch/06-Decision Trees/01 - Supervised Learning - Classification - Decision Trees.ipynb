{
 "cells": [
  {
   "cell_type": "markdown",
   "metadata": {},
   "source": [
    "# Programming for Data Science and Artificial Intelligence\n",
    "\n",
    "## Supervised Learning - Classification - Decision Trees\n",
    "\n",
    "### Readings: \n",
    "- [VANDER] Ch5\n",
    "- [HASTIE] Ch9, 13"
   ]
  },
  {
   "cell_type": "code",
   "execution_count": 1,
   "metadata": {},
   "outputs": [],
   "source": [
    "import matplotlib.pyplot as plt\n",
    "import numpy as np"
   ]
  },
  {
   "cell_type": "markdown",
   "metadata": {},
   "source": [
    "## Decision Trees\n",
    "\n",
    "Decision trees are extremely intuitive ways to classify or label objects: you simply ask a series of questions designed to zero-in on the classification.\n",
    "\n",
    "#### How is a Decision Tree fit?\n",
    "\n",
    "* Which variables to include on the tree?\n",
    "* How to choose the threshold?\n",
    "* When to stop the tree?\n",
    "\n",
    "**Key idea is that we want to choose the feature that has the lowest \"impurity\" to split our tree, thus our tree can reach the decision as fast as possible with smallest height possible**\n",
    "\n",
    "One way to measure impurity is using **Gini index** (another one is entropy but which measure very similar thing) with the following formula:\n",
    "\n",
    "$$ I_{G} = 1 - \\sum_{i=1}^{c} p_{i}^{2} $$\n",
    "\n",
    "where $c$ is number of classes, and $p_{i}$ is the probability of each class.  For example, let's say our X is <code>[[2],[3],[10],[19]]</code> and y is <code>[0, 0, 1, 1]</code>.  That is, if a node has 4 samples, and 2 samples are of class cancer, and 2 samples are of no cancer, then the probability of each class is\n",
    "\n",
    "$$p_{cancer}=(2/4)^2 = 0.25$$ and $$p_{no-cancer}=(2/4)^2 = 0.25$$   \n",
    "\n",
    "Thus the gini index of this node is\n",
    "\n",
    "$$ I_{G} = 1 - (0.25 + 0.25) = 0.5 $$\n",
    "\n",
    "Then we need to decide how to best split this node so we can get the lowest gini (highest purity) children.\n",
    "\n",
    "For example, if we split this sample with **x1 < 3**: we will get left node X as <code>[[2]]</code> and y as <code>[0]</code> and the right node X as <code>[[3],[10],[19]]</code> and y as <code>[0, 1, 1]</code>.  The weighted gini of the children are \n",
    "\n",
    "$$ 1/4*I_{leftG} + 3/4 * I_{rightG} =  $$\n",
    "$$ 1/4 * (1 - (1/1)^2) + 3/4 * (1 - (1/3)^2 - (2/3)^2) = 0.33 $$\n",
    "\n",
    "Hmm...but we know we can split better, right?  Let's try **x1 < 4**: we will get left node X as <code>[[2],[3]]</code> and y as <code>[0, 0]</code> and the right node X as <code>[[10],[19]]</code> and y as <code>[1, 1]</code>.  If you do the math right, the gini is 0!\n",
    "\n",
    "$$ 2/4 * (1 - (2/2)^2) + 2/4 * (1 - (2/2)^2 ) = 0 $$\n",
    "\n",
    "Thus, in conclusion, we can say that spliting **x1<4** is a much better split than **x1<3**.  In practice, to really find the best split, it is an exhaustive and greedy algorithm, in which we have to iterate and check every value on each feature as a candidate split, find the gini index.  \n",
    "\n",
    "#### How do we find all threshold for continuous values?\n",
    "\n",
    "We can sort all features.  Then we are identify critical value using the midpoint between all consecutive values.  For example, given X is <code>[[2],[3],[10],[19]]</code>, the critical value to compare is 2.5, 6.5 and 14.5.\n",
    "\n",
    "The code can be implemented in several ways.  Example are shown below:"
   ]
  },
  {
   "cell_type": "code",
   "execution_count": 2,
   "metadata": {},
   "outputs": [
    {
     "name": "stdout",
     "output_type": "stream",
     "text": [
      "Best feature used for split:  0\n",
      "Best threshold used for split:  6.5\n"
     ]
    }
   ],
   "source": [
    "\"\"\"\n",
    "Idea is simple.  Simply loop through all possible threshold:\n",
    "2.5, 6.5, 14.5.  \n",
    "\n",
    "2.5 threshold will give \n",
    "[0]         [0, 1, 1]\n",
    "6.5 threshold will give\n",
    "[0, 0]      [1, 1]\n",
    "14.5 threshold will give\n",
    "[0, 0, 1]   [1]\n",
    "\n",
    "Then we simply calculate the best gini.\n",
    "\n",
    "This approach work best if we first sort\n",
    "our sample to be in order, since we will have fast way\n",
    "to tell what are the feature value used to split that particular \n",
    "way.\n",
    "\n",
    "\"\"\"\n",
    "def find_split(X, y, n_classes):\n",
    "    \"\"\" Find split where children has lowest impurity possible\n",
    "    in condition where the purity should also be less than the parent,\n",
    "    if not, stop.\n",
    "    \"\"\"\n",
    "    n_samples, n_features = X.shape\n",
    "    if n_samples <= 1:\n",
    "        return None, None\n",
    "    \n",
    "    #so it will not have any warning about \"referenced before assignments\"\n",
    "    feature_ix, threshold = None, None\n",
    "    \n",
    "    # Count of each class in the current node.\n",
    "    sample_per_class_parent = [np.sum(y == c) for c in range(n_classes)] #[2, 2]\n",
    "    \n",
    "    # Gini of parent node.\n",
    "    best_gini = 1.0 - sum((n / n_samples) ** 2 for n in sample_per_class_parent)\n",
    "    yhat = y.mean()\n",
    "    err = yhat - y\n",
    "    best_mse = np.sum(err ** 2)\n",
    "\n",
    "    # Loop through all features.\n",
    "    for feature in range(n_features):\n",
    "        \n",
    "        # Sort data along selected feature.\n",
    "        sample_sorted = sorted(X[:, feature]) #[2, 3, 10, 19]\n",
    "        sort_idx = np.argsort(X[:, feature])\n",
    "        y_sorted = y[sort_idx] #[0, 0, 1, 1]\n",
    "                \n",
    "        sample_per_class_left = [0] * n_classes   #[0, 0]\n",
    "        \n",
    "        sample_per_class_right = sample_per_class_parent.copy() #[2, 2]\n",
    "        \n",
    "        #loop through each threshold, 2.5, 6.5, 14.5\n",
    "        #1st iter: [-] [-++]\n",
    "        #2nd iter: [--] [++]\n",
    "        #3rd iter: [--+] [+]\n",
    "        for i in range(1, n_samples): #1 to 3 (excluding 4)\n",
    "            #the class of that sample\n",
    "            c = y_sorted[i - 1]  #[0]\n",
    "            \n",
    "            #put the sample to the left\n",
    "            sample_per_class_left[c] += 1  #[1, 0]\n",
    "                        \n",
    "            #take the sample out from the right  [1, 2]\n",
    "            sample_per_class_right[c] -= 1\n",
    "            \n",
    "            gini_left = 1.0 - sum(\n",
    "                (sample_per_class_left[x] / i) ** 2 for x in range(n_classes)\n",
    "            )\n",
    "                        \n",
    "            #we divided by n_samples - i since we know that the left amount of samples\n",
    "            #since left side has already i samples\n",
    "            gini_right = 1.0 - sum(\n",
    "                (sample_per_class_right[x] / (n_samples - i)) ** 2 for x in range(n_classes)\n",
    "            )\n",
    "\n",
    "            #weighted gini\n",
    "            weighted_gini = ((i / n_samples) * gini_left) + ( (n_samples - i) /n_samples) * gini_right\n",
    "\n",
    "            # in case the value are the same, we do not split\n",
    "            # (both have to end up on the same side of a split).\n",
    "            if sample_sorted[i] == sample_sorted[i - 1]:\n",
    "                continue\n",
    "\n",
    "            if weighted_gini < best_gini:\n",
    "                best_gini = weighted_gini\n",
    "                feature_ix = feature\n",
    "                threshold = (sample_sorted[i] + sample_sorted[i - 1]) / 2  # midpoint\n",
    "\n",
    "    #return the feature number and threshold \n",
    "    #used to find best split\n",
    "    return feature_ix, threshold\n",
    "\n",
    "X = np.array([[2],[3],[10],[19]])\n",
    "y = np.array([0, 0, 1, 1])\n",
    "feature, threshold = find_split(X, y, len(set(y)))\n",
    "\n",
    "#will print 0, 6.5\n",
    "print(\"Best feature used for split: \", feature)\n",
    "print(\"Best threshold used for split: \", threshold)"
   ]
  },
  {
   "cell_type": "markdown",
   "metadata": {},
   "source": [
    "### Scratch"
   ]
  },
  {
   "cell_type": "markdown",
   "metadata": {},
   "source": [
    "One all value are exhausted, we can then use the best decision note as our split node.  Then when we go to the next node, we have to repeat again.  This algorithm is called **CART (Classification and Regression Trees)** algorithm, where the recursion keeps on going until certain stop criteria, such as maximum tree depth is reached, or no split can produce two children with lower purity.\n",
    "\n",
    "**Implementation steps:**\n",
    "\n",
    "1. Calculate the purity of the data\n",
    "2. Select a candidate split\n",
    "3. Calculate the purity of the data after the split\n",
    "4. Repeat for all variables\n",
    "5. Choose the variable with the lowest impurity \n",
    "6. Repeat for each split until some stop criteria is met\n",
    "\n",
    "Example could be stop criteria could be max tree depth, or minimum node records.\n",
    "\n",
    "Here are some snippets of the possible implementation \n",
    "of Decision Tree"
   ]
  },
  {
   "cell_type": "code",
   "execution_count": 3,
   "metadata": {},
   "outputs": [],
   "source": [
    "#To help with our implementation, we create a class Node\n",
    "class Node:\n",
    "    def __init__(self, gini, num_samples, num_samples_per_class, predicted_class):\n",
    "        self.gini = gini\n",
    "        self.num_samples = num_samples\n",
    "        self.num_samples_per_class = num_samples_per_class\n",
    "        self.predicted_class = predicted_class\n",
    "        self.feature_index = 0\n",
    "        self.threshold = 0\n",
    "        self.left = None\n",
    "        self.right = None"
   ]
  },
  {
   "cell_type": "markdown",
   "metadata": {},
   "source": [
    "Let's try implement Decision Tree to see how it looks"
   ]
  },
  {
   "cell_type": "code",
   "execution_count": 4,
   "metadata": {},
   "outputs": [
    {
     "name": "stdout",
     "output_type": "stream",
     "text": [
      "Tree feature ind:  0\n",
      "Tree threshold:  6.5\n",
      "Pred:  [0 0 1 1]\n",
      "ytest:  [0 0 1 1]\n"
     ]
    }
   ],
   "source": [
    "def fit(Xtrain, ytrain, n_classes, depth=0):  \n",
    "    n_samples, n_features = Xtrain.shape\n",
    "    num_samples_per_class = [np.sum(ytrain == i) for i in range(n_classes)]\n",
    "    #predicted class using the majority of sample class\n",
    "    predicted_class = np.argmax(num_samples_per_class)\n",
    "    \n",
    "    #define the parent node\n",
    "    node = Node(\n",
    "        gini = 1 - sum((np.sum(y == c) / n_samples) ** 2 for c in range(n_classes)),\n",
    "        predicted_class=predicted_class,\n",
    "        num_samples = ytrain.size,\n",
    "        num_samples_per_class = num_samples_per_class,\n",
    "        )\n",
    "        \n",
    "    #perform recursion\n",
    "    feature, threshold = find_split(Xtrain, ytrain, n_classes)\n",
    "    if feature is not None:\n",
    "        #take all the indices that is less than threshold\n",
    "        indices_left = X[:, feature] < threshold\n",
    "        X_left, y_left = X[indices_left], y[indices_left]\n",
    "\n",
    "        #tilde for negation\n",
    "        X_right, y_right = X[~indices_left], y[~indices_left]\n",
    "\n",
    "        #take note for later decision\n",
    "        node.feature_index = feature\n",
    "        node.threshold = threshold\n",
    "        node.left = fit(X_left, y_left, n_classes, depth + 1)\n",
    "        node.right = fit(X_right, y_right, n_classes, depth + 1)\n",
    "    return node\n",
    "\n",
    "#to predict, it is as simple as moving \n",
    "#through the tree \n",
    "def predict(sample, tree):\n",
    "    while tree.left:\n",
    "        if sample[tree.feature_index] < tree.threshold:\n",
    "            tree = tree.left\n",
    "        else:\n",
    "            tree = tree.right\n",
    "    return tree.predicted_class\n",
    "\n",
    "#fit starting with tree depth = 0\n",
    "Xtrain = np.array([[2, 5],[3, 5],[10, 5],[19, 5]])\n",
    "ytrain = np.array([0, 0, 1, 1])\n",
    "Xtest = np.array(([[4, 6],[6, 9],[9, 2],[12, 8]]))\n",
    "ytest = np.array([0, 0, 1, 1])\n",
    "\n",
    "tree = fit(Xtrain, ytrain, len(set(ytrain)))\n",
    "pred = [predict(x, tree) for x in Xtest]\n",
    "\n",
    "print(\"Tree feature ind: \", tree.feature_index)\n",
    "print(\"Tree threshold: \", tree.threshold)\n",
    "print(\"Pred: \", np.array(pred))\n",
    "print(\"ytest: \", ytest)"
   ]
  },
  {
   "cell_type": "markdown",
   "metadata": {},
   "source": [
    "### Sklearn"
   ]
  },
  {
   "cell_type": "code",
   "execution_count": 5,
   "metadata": {},
   "outputs": [
    {
     "data": {
      "image/png": "[encoded data removed]",
      "text/plain": [
       "<Figure size 432x288 with 1 Axes>"
      ]
     },
     "metadata": {
      "needs_background": "light"
     },
     "output_type": "display_data"
    }
   ],
   "source": [
    "from sklearn.tree import DecisionTreeClassifier\n",
    "from sklearn.datasets import make_blobs\n",
    "\n",
    "X, y = make_blobs(n_samples=300, centers=4,\n",
    "                  random_state=0, cluster_std=1.0)\n",
    "\n",
    "model = DecisionTreeClassifier().fit(X, y)\n",
    "\n",
    "def plot_tree(model, X, y):\n",
    "    plt.grid()\n",
    "    plt.scatter(X[:, 0], X[:, 1], c=y, s=30)\n",
    "\n",
    "    xx, yy = np.meshgrid(np.linspace(-5, 5, num=200),\n",
    "                             np.linspace(-2, 11, num=200))\n",
    "    Z = model.predict(np.c_[xx.ravel(), yy.ravel()]).reshape(xx.shape)\n",
    "    \n",
    "    # Create a color plot with the results\n",
    "    n_classes = len(set(y))\n",
    "    contours = plt.contourf(xx, yy, Z, alpha=0.2)\n",
    "\n",
    "\n",
    "plot_tree(model, X, y)"
   ]
  },
  {
   "cell_type": "markdown",
   "metadata": {},
   "source": [
    "### ===Task===\n",
    "\n",
    "Let's modify the above scratch code to\n",
    "- Modify the scratch code so it can accept an hyperparameter <code>max_depth</code>, in which it will continue create the tree until max_depth is reached.\n",
    "- Put everything into a class <code>DecisionTree</code>.  It should have at least two methods, <code>fit()</code>, and <code>predict()</code>\n",
    "- Load the iris data and try with your class"
   ]
  },
  {
   "cell_type": "markdown",
   "metadata": {},
   "source": [
    "### When to use Decision Trees\n",
    "\n",
    "Decision Trees are more powerful than other classification in a sense that it can work very well given heterogenous features.  However, the downsides is high possibility of over-fitting: it is very easy to go too deep in the tree, and thus to fit details of the particular data rather than the overall properties of the distributions they are drawn from.\n",
    "\n",
    "However, by using information from multiple decision trees training on subset of data (i.e., random forests), we might expect better results.  We shall explore random forests and a general family of ensembles later in our course."
   ]
  },
  {
   "cell_type": "code",
   "execution_count": null,
   "metadata": {},
   "outputs": [],
   "source": []
  }
 ],
 "metadata": {
  "kernelspec": {
   "display_name": "Python 3 (ipykernel)",
   "language": "python",
   "name": "python3"
  },
  "language_info": {
   "codemirror_mode": {
    "name": "ipython",
    "version": 3
   },
   "file_extension": ".py",
   "mimetype": "text/x-python",
   "name": "python",
   "nbconvert_exporter": "python",
   "pygments_lexer": "ipython3",
   "version": "3.9.1"
  }
 },
 "nbformat": 4,
 "nbformat_minor": 4
}
