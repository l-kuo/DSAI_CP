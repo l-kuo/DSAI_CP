{
 "cells": [
  {
   "cell_type": "markdown",
   "metadata": {},
   "source": [
    "Modify the scratch code of K-means clustering in our lecture:\n",
    "- Modify so it print out the total within-cluster variation.  Then try to run several k and identify which k is best.\n",
    "- Since k-means can be slow due to its pairwise computations, let's implement a mini-batch k-means in which the cluster is create using only partial subset of samples.\n",
    "- Put everything into a class\n",
    "\n",
    "Mini-Batch will rarely converge, thus it is important to add a max_iteration or some tolerance.  Last, theoretically speaking, Mini-Batch will never perform better in terms of accuracy when compare to K-means, but it is very close to optimal but will almost always beat K-means in terms of time given large dataset and a modest tolerance parameter."
   ]
  },
  {
   "cell_type": "code",
   "execution_count": 1,
   "metadata": {},
   "outputs": [],
   "source": [
    "from sklearn.datasets import make_blobs\n",
    "from sklearn.metrics import pairwise_distances_argmin\n",
    "import numpy as np"
   ]
  },
  {
   "cell_type": "code",
   "execution_count": 2,
   "metadata": {},
   "outputs": [
    {
     "name": "stdout",
     "output_type": "stream",
     "text": [
      "(1500, 2)\n",
      "(1500,)\n"
     ]
    }
   ],
   "source": [
    "X, y = make_blobs(n_samples= 1500, centers = 4, cluster_std= 0.60, random_state= 27)\n",
    "print(X.shape)\n",
    "print(y.shape)"
   ]
  },
  {
   "cell_type": "code",
   "execution_count": 11,
   "metadata": {},
   "outputs": [],
   "source": [
    "class Kmeans:\n",
    "    def __init__(self, k, replacement = True, batch_size = 100, max_iter = 100):\n",
    "        self.k = k\n",
    "        self.replacement = replacement\n",
    "        self.batch_size = batch_size\n",
    "        self.max_iter = max_iter\n",
    "        \n",
    "    def fit(self, X):\n",
    "        m, n = X.shape\n",
    "        \n",
    "        rng = np.random.RandomState(27)\n",
    "        i = rng.permutation(m)[:self.k]\n",
    "        self.centers = X[i]\n",
    "        \n",
    "        for ix in np.arange(self.max_iter):\n",
    "            random = rng.randint(m)\n",
    "            X_batch = X[random:random+self.batch_size]\n",
    "            labels = pairwise_distances_argmin(X_batch, self.centers)\n",
    "            new_centers = []\n",
    "            for i in range(self.k):\n",
    "                new_centers.append(X_batch[labels == i].mean(axis=0))\n",
    "\n",
    "            new_centers = np.array(new_centers)\n",
    "\n",
    "            if(np.allclose(self.centers, new_centers, rtol = 0.1)):\n",
    "                break\n",
    "            else:\n",
    "                self.centers = new_centers\n",
    "        print(f'iterations stop at {ix}')\n",
    "\n",
    "        total_with_variation_score = 0\n",
    "        labels = pairwise_distances_argmin(X, self.centers)\n",
    "        for i in range(self.k):\n",
    "            cluster_mean = X[labels == i].mean(axis =0)\n",
    "            total_with_variation_score += ((X[labels == i] - cluster_mean)** 2).sum()\n",
    "        \n",
    "        print(f'Total with the variation score = {total_with_variation_score}')\n",
    "        \n",
    "    def predict(self, X):\n",
    "        return pairwise_distances_argmin(X, self.centers)"
   ]
  },
  {
   "cell_type": "code",
   "execution_count": 12,
   "metadata": {},
   "outputs": [
    {
     "name": "stdout",
     "output_type": "stream",
     "text": [
      "k = 2\n",
      "iterations stop at 8\n",
      "Total with the variation score = 14164.269175554673\n",
      "k = 3\n",
      "iterations stop at 6\n",
      "Total with the variation score = 3270.7473517399058\n",
      "k = 4\n",
      "iterations stop at 3\n",
      "Total with the variation score = 1055.7563573135321\n",
      "k = 5\n",
      "iterations stop at 4\n",
      "Total with the variation score = 967.5433377147152\n",
      "k = 6\n",
      "iterations stop at 4\n",
      "Total with the variation score = 893.0925365790056\n"
     ]
    }
   ],
   "source": [
    "for k in range(2, 7):\n",
    "    print(f'k = {k}')\n",
    "    model = Kmeans(k)\n",
    "    model.fit(X)\n",
    "    preds = model.predict(X)"
   ]
  },
  {
   "cell_type": "code",
   "execution_count": null,
   "metadata": {},
   "outputs": [],
   "source": []
  }
 ],
 "metadata": {
  "kernelspec": {
   "display_name": "Python 3 (ipykernel)",
   "language": "python",
   "name": "python3"
  },
  "language_info": {
   "codemirror_mode": {
    "name": "ipython",
    "version": 3
   },
   "file_extension": ".py",
   "mimetype": "text/x-python",
   "name": "python",
   "nbconvert_exporter": "python",
   "pygments_lexer": "ipython3",
   "version": "3.9.1"
  }
 },
 "nbformat": 4,
 "nbformat_minor": 4
}
