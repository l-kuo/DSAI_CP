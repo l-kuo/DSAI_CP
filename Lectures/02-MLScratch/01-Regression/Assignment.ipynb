{
 "cells": [
  {
   "cell_type": "code",
   "execution_count": 45,
   "id": "2ccd841c",
   "metadata": {},
   "outputs": [],
   "source": [
    "import numpy as np\n",
    "import matplotlib.pyplot as plt\n",
    "from sklearn.datasets import load_boston\n",
    "\n",
    "boston = load_boston()"
   ]
  },
  {
   "cell_type": "code",
   "execution_count": 46,
   "id": "0618ea4d",
   "metadata": {},
   "outputs": [],
   "source": [
    "X = boston.data\n",
    "# print(X.shape)\n",
    "\n",
    "m = X.shape[0]\n",
    "n = X.shape[1]\n",
    "# print(m)\n",
    "# print(n)"
   ]
  },
  {
   "cell_type": "code",
   "execution_count": 47,
   "id": "2e029ca1",
   "metadata": {},
   "outputs": [],
   "source": [
    "y = boston.target\n",
    "# print(y)\n",
    "\n",
    "assert m == y.shape[0]"
   ]
  },
  {
   "cell_type": "code",
   "execution_count": 48,
   "id": "9047f126",
   "metadata": {},
   "outputs": [],
   "source": [
    "from sklearn.preprocessing import StandardScaler\n",
    "\n",
    "scaler = StandardScaler()\n",
    "\n",
    "X = scaler.fit_transform(X)\n",
    "# print(X)"
   ]
  },
  {
   "cell_type": "code",
   "execution_count": 49,
   "id": "227eac4a",
   "metadata": {},
   "outputs": [],
   "source": [
    "from sklearn.model_selection import train_test_split\n",
    "\n",
    "X_train, X_test, y_train, y_test = train_test_split(X, y, test_size = 0.3)\n",
    "\n",
    "# print(X_train.shape)\n",
    "# print(y_train.shape)\n",
    "assert X_train.shape[0] == y_train.shape[0]\n",
    "assert X_test.shape[0] == y_test.shape[0]"
   ]
  },
  {
   "cell_type": "code",
   "execution_count": 50,
   "id": "27f3eabf",
   "metadata": {},
   "outputs": [],
   "source": [
    "intercept = np.ones((X_train.shape[0], 1))\n",
    "# print(intercept.shape)\n",
    "\n",
    "X_train = np.concatenate((intercept, X_train), axis = 1)\n",
    "\n",
    "intercept = np.ones((X_test.shape[0], 1))\n",
    "\n",
    "X_test = np.concatenate((intercept, X_test), axis = 1)\n",
    "\n",
    "# print(X_train.shape)\n",
    "# print(X_test.shape)"
   ]
  },
  {
   "cell_type": "code",
   "execution_count": 70,
   "id": "54353f52",
   "metadata": {},
   "outputs": [],
   "source": [
    "class MyAssignment:\n",
    "        \n",
    "    def __init__(self, alpha = 0.0001, max_iter = 1000, loss_old = 10000, tol = 0.0001, batch = \"batch\", batch_size = 6):\n",
    "        self.alpha = alpha\n",
    "        self.max_iter = max_iter\n",
    "        self.loss_old = loss_old\n",
    "        self.tol = tol\n",
    "        self.batch = batch\n",
    "        self.batch_size = batch_size\n",
    "\n",
    "    def h_theta(self, X):\n",
    "        return X @ self.theta\n",
    "\n",
    "    def mse(self, yhat, y):\n",
    "        return ((yhat - y)**2).sum() / yhat.shape[0]\n",
    "\n",
    "    def gradient(self, X, error):\n",
    "        return X.T @ error\n",
    "\n",
    "    def mse_diff (self, loss_old, loss_new):\n",
    "        return np.abs(loss_old - loss_new)\n",
    "    \n",
    "    def gradient_descent(self, X, y):\n",
    "        \n",
    "        self.theta = np.ones(X.shape[1])\n",
    "    \n",
    "        for i in range(self.max_iter):\n",
    "            \n",
    "            if self.batch == \"batch\":\n",
    "#                 print(\"hi\")\n",
    "                X_train = X\n",
    "                y_train = y\n",
    "                \n",
    "            elif self.batch == \"sto\":\n",
    "#                 print(\"hi sto\")\n",
    "                j = np.random.randint(0, X.shape[0])\n",
    "                X_train = X[j, :].reshape(-1,1)\n",
    "                y_train = y[j]\n",
    "            elif self.batch == \"mini\":\n",
    "#                 print(\"hi mini\")\n",
    "                mini_batches = []\n",
    "                for k in range(self.batch_size):\n",
    "                    X = X[k * self.batch_size:(k + 1)*self.batch_size, :]\n",
    "                    y = y[k * self.batch_size:(k + 1)*self.batch_size]\n",
    "                    X_mini = X[:, :-1]\n",
    "                    y_mini = y[:,].reshape((-1, 1))\n",
    "                    mini_batches.append((X_mini, y_mini))\n",
    "                    print(mini_batches)\n",
    "#                     print(mini_batches[0][0][0])\n",
    "                    \n",
    "                    \n",
    "            else:\n",
    "                print(\"error batch defined\")\n",
    "\n",
    "            # 1. yhat = X @ w\n",
    "            # prediction\n",
    "            # yhat (m, ) = (m, n) @ (n, )\n",
    "            yhat = self.h_theta(X_train)\n",
    "\n",
    "            # 2. error = yhat - y_train\n",
    "            # error for use to calculate gradients\n",
    "            # error (m, ) = (m, ) - (m, )\n",
    "            error = yhat - y_train\n",
    "\n",
    "            # 3. grad = X.T @ error\n",
    "            # grad (n, ) = (n, m) @ (m, )\n",
    "            # grad for each feature j\n",
    "            grad = self.gradient(X_train, error)\n",
    "\n",
    "            # 4. w = w - alpha * grad\n",
    "            # update w\n",
    "            # w (n, ) = (n, ) - scalar * (n, )\n",
    "            self.theta = self.theta - self.alpha * grad\n",
    "            \n",
    "            loss_new = self.mse(yhat, y_train)\n",
    "            new_mse_diff = self.mse_diff(self.loss_old, loss_new)\n",
    "            if new_mse_diff < self.tol:\n",
    "                break\n"
   ]
  },
  {
   "cell_type": "code",
   "execution_count": 71,
   "id": "17f00e05",
   "metadata": {
    "scrolled": true
   },
   "outputs": [],
   "source": [
    "a = MyAssignment(batch = \"batch\")\n",
    "a.gradient_descent(X_train, y_train)\n",
    "yhat = a.h_theta(X_test)\n",
    "mse = a.mse(yhat, y_test)"
   ]
  },
  {
   "cell_type": "code",
   "execution_count": 72,
   "id": "d98f2617",
   "metadata": {},
   "outputs": [
    {
     "name": "stdout",
     "output_type": "stream",
     "text": [
      "27.906563349539905\n"
     ]
    }
   ],
   "source": [
    "print(mse)"
   ]
  },
  {
   "cell_type": "code",
   "execution_count": null,
   "id": "65377ec5",
   "metadata": {},
   "outputs": [],
   "source": []
  }
 ],
 "metadata": {
  "kernelspec": {
   "display_name": "pythonDSAI",
   "language": "python",
   "name": "pythondsai"
  },
  "language_info": {
   "codemirror_mode": {
    "name": "ipython",
    "version": 3
   },
   "file_extension": ".py",
   "mimetype": "text/x-python",
   "name": "python",
   "nbconvert_exporter": "python",
   "pygments_lexer": "ipython3",
   "version": "3.9.1"
  }
 },
 "nbformat": 4,
 "nbformat_minor": 5
}
